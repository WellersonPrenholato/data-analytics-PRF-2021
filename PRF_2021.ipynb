{
  "nbformat": 4,
  "nbformat_minor": 0,
  "metadata": {
    "colab": {
      "provenance": [],
      "toc_visible": true
    },
    "kernelspec": {
      "name": "python3",
      "display_name": "Python 3"
    },
    "language_info": {
      "name": "python"
    }
  },
  "cells": [
    {
      "cell_type": "markdown",
      "source": [
        "\n"
      ],
      "metadata": {
        "id": "BcvYbRFFApc8"
      }
    },
    {
      "cell_type": "code",
      "execution_count": null,
      "metadata": {
        "id": "m6WoB-J1_sOp"
      },
      "outputs": [],
      "source": [
        "import pandas as pd\n",
        "import matplotlib.pyplot as plt"
      ]
    },
    {
      "cell_type": "code",
      "source": [
        "data = pd.read_csv(\"./datatran2021.csv\", sep = ';', encoding=\"ISO-8859-1\")\n",
        "# data.head()"
      ],
      "metadata": {
        "id": "kTJ5bB9oAkeA"
      },
      "execution_count": null,
      "outputs": []
    },
    {
      "cell_type": "code",
      "source": [
        "data.shape"
      ],
      "metadata": {
        "colab": {
          "base_uri": "https://localhost:8080/"
        },
        "id": "1tfxHC6vR_zR",
        "outputId": "d5475f35-cc4a-4efb-8da0-f02274187718"
      },
      "execution_count": null,
      "outputs": [
        {
          "output_type": "execute_result",
          "data": {
            "text/plain": [
              "(64539, 30)"
            ]
          },
          "metadata": {},
          "execution_count": 205
        }
      ]
    },
    {
      "cell_type": "markdown",
      "source": [
        "# Seleção do estado\n",
        "Seção utilizada para filtrar os dados do estado de São Paulo - SP."
      ],
      "metadata": {
        "id": "P2K54A2zTepf"
      }
    },
    {
      "cell_type": "code",
      "source": [
        "data = data.drop (data[data['uf'] != 'SP'].index)"
      ],
      "metadata": {
        "id": "--iHNWg9Anje"
      },
      "execution_count": null,
      "outputs": []
    },
    {
      "cell_type": "code",
      "source": [
        "data.shape"
      ],
      "metadata": {
        "colab": {
          "base_uri": "https://localhost:8080/"
        },
        "id": "n8oFYA8DSnay",
        "outputId": "437dec66-d6ac-469c-9c58-374896df32d1"
      },
      "execution_count": null,
      "outputs": [
        {
          "output_type": "execute_result",
          "data": {
            "text/plain": [
              "(4300, 30)"
            ]
          },
          "metadata": {},
          "execution_count": 207
        }
      ]
    },
    {
      "cell_type": "markdown",
      "source": [
        "## Identificação de dados nulos\n",
        "Está seção é responsável listar e remover a linha que contém alguma informação nula."
      ],
      "metadata": {
        "id": "41XXI0pPT3Pt"
      }
    },
    {
      "cell_type": "code",
      "source": [
        "data[data.isnull().any(axis=1)]\n",
        "data.isnull().sum()"
      ],
      "metadata": {
        "colab": {
          "base_uri": "https://localhost:8080/"
        },
        "id": "LFiRUzmGAoBv",
        "outputId": "ec227059-ad79-429c-a7e1-b3f145e74042"
      },
      "execution_count": null,
      "outputs": [
        {
          "output_type": "execute_result",
          "data": {
            "text/plain": [
              "id                        0\n",
              "data_inversa              0\n",
              "dia_semana                0\n",
              "horario                   0\n",
              "uf                        0\n",
              "br                        8\n",
              "km                        8\n",
              "municipio                 0\n",
              "causa_acidente            0\n",
              "tipo_acidente             0\n",
              "classificacao_acidente    0\n",
              "fase_dia                  0\n",
              "sentido_via               0\n",
              "condicao_metereologica    0\n",
              "tipo_pista                0\n",
              "tracado_via               0\n",
              "uso_solo                  0\n",
              "pessoas                   0\n",
              "mortos                    0\n",
              "feridos_leves             0\n",
              "feridos_graves            0\n",
              "ilesos                    0\n",
              "ignorados                 0\n",
              "feridos                   0\n",
              "veiculos                  0\n",
              "latitude                  0\n",
              "longitude                 0\n",
              "regional                  0\n",
              "delegacia                 0\n",
              "uop                       1\n",
              "dtype: int64"
            ]
          },
          "metadata": {},
          "execution_count": 208
        }
      ]
    },
    {
      "cell_type": "code",
      "source": [
        "data.dropna(inplace=True)"
      ],
      "metadata": {
        "id": "qlsy9DLYUaqV"
      },
      "execution_count": null,
      "outputs": []
    },
    {
      "cell_type": "code",
      "source": [
        "data.shape"
      ],
      "metadata": {
        "colab": {
          "base_uri": "https://localhost:8080/"
        },
        "id": "fhVek35BR87J",
        "outputId": "462f769b-5487-4f0b-f5fe-03d8703205cf"
      },
      "execution_count": null,
      "outputs": [
        {
          "output_type": "execute_result",
          "data": {
            "text/plain": [
              "(4292, 30)"
            ]
          },
          "metadata": {},
          "execution_count": 210
        }
      ]
    },
    {
      "cell_type": "markdown",
      "source": [
        "## Salvando o resultado do filtro\n",
        "Salva o resultado do filtro em um novo arquivo."
      ],
      "metadata": {
        "id": "VnI3IIazVcl0"
      }
    },
    {
      "cell_type": "code",
      "source": [
        "data.to_csv('dataset_SP_2021.csv',  sep = ';', index=False, encoding=\"ISO-8859-1\")"
      ],
      "metadata": {
        "id": "mYKYIaNPR2oK"
      },
      "execution_count": null,
      "outputs": []
    },
    {
      "cell_type": "code",
      "source": [],
      "metadata": {
        "id": "X5NuYUqDSIdI"
      },
      "execution_count": null,
      "outputs": []
    },
    {
      "cell_type": "markdown",
      "source": [
        "# Tipos de acidentes de trânsito"
      ],
      "metadata": {
        "id": "3ujBCJ1WVsDw"
      }
    },
    {
      "cell_type": "code",
      "source": [
        "data.columns"
      ],
      "metadata": {
        "colab": {
          "base_uri": "https://localhost:8080/"
        },
        "id": "HaOo5zECV01q",
        "outputId": "eb54fdf9-bc49-4fe2-e52d-abe9e3e2f01a"
      },
      "execution_count": null,
      "outputs": [
        {
          "output_type": "execute_result",
          "data": {
            "text/plain": [
              "Index(['id', 'data_inversa', 'dia_semana', 'horario', 'uf', 'br', 'km',\n",
              "       'municipio', 'causa_acidente', 'tipo_acidente',\n",
              "       'classificacao_acidente', 'fase_dia', 'sentido_via',\n",
              "       'condicao_metereologica', 'tipo_pista', 'tracado_via', 'uso_solo',\n",
              "       'pessoas', 'mortos', 'feridos_leves', 'feridos_graves', 'ilesos',\n",
              "       'ignorados', 'feridos', 'veiculos', 'latitude', 'longitude', 'regional',\n",
              "       'delegacia', 'uop'],\n",
              "      dtype='object')"
            ]
          },
          "metadata": {},
          "execution_count": 212
        }
      ]
    },
    {
      "cell_type": "code",
      "source": [
        "data['tipo_acidente'].value_counts()"
      ],
      "metadata": {
        "colab": {
          "base_uri": "https://localhost:8080/"
        },
        "id": "jr9r5MH_R3n2",
        "outputId": "d05e2f32-26f6-49ef-b1de-c46df472b41e"
      },
      "execution_count": null,
      "outputs": [
        {
          "output_type": "execute_result",
          "data": {
            "text/plain": [
              "Colisão traseira                  1092\n",
              "Colisão com objeto                 575\n",
              "Colisão lateral mesmo sentido      518\n",
              "Tombamento                         485\n",
              "Saída de leito carroçável          393\n",
              "Atropelamento de Pedestre          246\n",
              "Queda de ocupante de veículo       237\n",
              "Colisão transversal                185\n",
              "Capotamento                        137\n",
              "Engavetamento                      115\n",
              "Incêndio                           109\n",
              "Colisão frontal                     70\n",
              "Atropelamento de Animal             38\n",
              "Colisão lateral                     34\n",
              "Colisão lateral sentido oposto      25\n",
              "Eventos atípicos                    19\n",
              "Derramamento de carga               14\n",
              "Name: tipo_acidente, dtype: int64"
            ]
          },
          "metadata": {},
          "execution_count": 213
        }
      ]
    },
    {
      "cell_type": "code",
      "source": [
        "dict_tipo_acidente = dict(data['tipo_acidente'].value_counts())"
      ],
      "metadata": {
        "id": "QKuqgMApZGnC"
      },
      "execution_count": null,
      "outputs": []
    },
    {
      "cell_type": "code",
      "source": [
        "dict_tipo_acidente.keys()"
      ],
      "metadata": {
        "colab": {
          "base_uri": "https://localhost:8080/"
        },
        "id": "66yh1miiaaVv",
        "outputId": "20ff2ad4-8f0e-4a64-90e9-2f4ae58f0310"
      },
      "execution_count": null,
      "outputs": [
        {
          "output_type": "execute_result",
          "data": {
            "text/plain": [
              "dict_keys(['Colisão traseira', 'Colisão com objeto', 'Colisão lateral mesmo sentido', 'Tombamento', 'Saída de leito carroçável', 'Atropelamento de Pedestre', 'Queda de ocupante de veículo', 'Colisão transversal', 'Capotamento', 'Engavetamento', 'Incêndio', 'Colisão frontal', 'Atropelamento de Animal', 'Colisão lateral', 'Colisão lateral sentido oposto', 'Eventos atípicos', 'Derramamento de carga'])"
            ]
          },
          "metadata": {},
          "execution_count": 215
        }
      ]
    },
    {
      "cell_type": "code",
      "source": [
        "dict_tipo_acidente.values()"
      ],
      "metadata": {
        "colab": {
          "base_uri": "https://localhost:8080/"
        },
        "id": "IA01ePwTaC-r",
        "outputId": "972a6d94-186d-4309-9695-866fc5a3620d"
      },
      "execution_count": null,
      "outputs": [
        {
          "output_type": "execute_result",
          "data": {
            "text/plain": [
              "dict_values([1092, 575, 518, 485, 393, 246, 237, 185, 137, 115, 109, 70, 38, 34, 25, 19, 14])"
            ]
          },
          "metadata": {},
          "execution_count": 216
        }
      ]
    },
    {
      "cell_type": "markdown",
      "source": [
        "## Gráfico de barra"
      ],
      "metadata": {
        "id": "VML6dTRZWPuX"
      }
    },
    {
      "cell_type": "code",
      "source": [
        "list_tipos_acidentes_keys = list(dict_tipo_acidente.keys())"
      ],
      "metadata": {
        "id": "2cfDdHRdY31T"
      },
      "execution_count": null,
      "outputs": []
    },
    {
      "cell_type": "code",
      "source": [
        "list_tipos_acidentes_values = list(dict_tipo_acidente.values())"
      ],
      "metadata": {
        "id": "Z_7v_I4_Y3oM"
      },
      "execution_count": null,
      "outputs": []
    },
    {
      "cell_type": "code",
      "source": [
        "bar_colors = ['tab:red', 'tab:blue', 'tab:red', 'tab:orange']\n",
        "plt.figure(figsize=(10,10))\n",
        "\n",
        "plt.barh(list_tipos_acidentes_keys, list_tipos_acidentes_values, \n",
        "         color=bar_colors, height = 0.8)\n",
        "\n",
        "plt.xlabel('Nº de acidentes')\n",
        "plt.ylabel('Tipos de acidentes')\n",
        "plt.title('Gráfico por tipos de acidentes')\n",
        "\n",
        "for index, value in enumerate(list_tipos_acidentes_values): \n",
        "    plt.text(value, index, str(value))\n",
        "    ultima_posicao = index\n",
        "\n",
        "\n",
        "plt.text(ultima_posicao*30, ultima_posicao, f\"O Número total de acidentes registrados é {data.shape[0]}\")\n",
        "\n",
        "\n",
        "plt.show()"
      ],
      "metadata": {
        "colab": {
          "base_uri": "https://localhost:8080/",
          "height": 621
        },
        "id": "T9TYeKOrV042",
        "outputId": "84ade67e-249b-4b62-f20d-cfb215687af7"
      },
      "execution_count": null,
      "outputs": [
        {
          "output_type": "display_data",
          "data": {
            "text/plain": [
              "<Figure size 720x720 with 1 Axes>"
            ],
            "image/png": "[encoded data removed]"
          },
          "metadata": {
            "needs_background": "light"
          }
        }
      ]
    },
    {
      "cell_type": "markdown",
      "source": [
        "# Classificação dos acidentes de trânsito"
      ],
      "metadata": {
        "id": "6Cv5_WI0WakL"
      }
    },
    {
      "cell_type": "code",
      "source": [
        "data['classificacao_acidente'].value_counts()"
      ],
      "metadata": {
        "colab": {
          "base_uri": "https://localhost:8080/"
        },
        "id": "Px6z3e8NV09a",
        "outputId": "de7c64ba-9cf2-4ba5-f04b-713bd51fb373"
      },
      "execution_count": null,
      "outputs": [
        {
          "output_type": "execute_result",
          "data": {
            "text/plain": [
              "Com Vítimas Feridas    3283\n",
              "Sem Vítimas             806\n",
              "Com Vítimas Fatais      203\n",
              "Name: classificacao_acidente, dtype: int64"
            ]
          },
          "metadata": {},
          "execution_count": 220
        }
      ]
    },
    {
      "cell_type": "markdown",
      "source": [
        "## Gráfico de Barra"
      ],
      "metadata": {
        "id": "GzY00SENWxOw"
      }
    },
    {
      "cell_type": "code",
      "source": [],
      "metadata": {
        "id": "Zl7Q08OhV1C2"
      },
      "execution_count": null,
      "outputs": []
    },
    {
      "cell_type": "markdown",
      "source": [
        "# Condições meteorológicas dos acidentes de trânsito"
      ],
      "metadata": {
        "id": "hapRwzYVW6xl"
      }
    },
    {
      "cell_type": "code",
      "source": [
        "data['condicao_metereologica'].value_counts()"
      ],
      "metadata": {
        "colab": {
          "base_uri": "https://localhost:8080/"
        },
        "id": "_2EEF2HUW5_U",
        "outputId": "f4d9debc-0781-4c18-c5d0-22f7734d369d"
      },
      "execution_count": null,
      "outputs": [
        {
          "output_type": "execute_result",
          "data": {
            "text/plain": [
              "Céu Claro           2358\n",
              "Nublado              897\n",
              "Chuva                450\n",
              "Sol                  262\n",
              "Garoa/Chuvisco       244\n",
              "Ignorado              48\n",
              "Nevoeiro/Neblina      28\n",
              "Vento                  5\n",
              "Name: condicao_metereologica, dtype: int64"
            ]
          },
          "metadata": {},
          "execution_count": 221
        }
      ]
    },
    {
      "cell_type": "markdown",
      "source": [
        "## Gráfico de Barra"
      ],
      "metadata": {
        "id": "mgWOnf3UXlf4"
      }
    },
    {
      "cell_type": "code",
      "source": [],
      "metadata": {
        "id": "lPKV55p0W6Cb"
      },
      "execution_count": null,
      "outputs": []
    }
  ]
}